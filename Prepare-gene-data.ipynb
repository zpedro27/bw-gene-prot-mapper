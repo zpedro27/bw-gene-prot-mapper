{
 "cells": [
  {
   "cell_type": "code",
   "execution_count": 1,
   "metadata": {},
   "outputs": [],
   "source": [
    "from Bio.SeqFeature import FeatureLocation\n",
    "from Bio.SeqRecord  import SeqRecord\n",
    "import _pickle as pickle\n",
    "import pandas as pd\n",
    "import sys"
   ]
  },
  {
   "cell_type": "markdown",
   "metadata": {},
   "source": [
    "Import custom package (see https://github.com/zpedro27/operon-analysis)"
   ]
  },
  {
   "cell_type": "code",
   "execution_count": 2,
   "metadata": {},
   "outputs": [],
   "source": [
    "sys.path.append(\"../operon-analysis\")\n",
    "from locations import GenomeLocation"
   ]
  },
  {
   "cell_type": "markdown",
   "metadata": {},
   "source": [
    "Load E. coli BW25113 genome from https://www.ncbi.nlm.nih.gov/nuccore/CP009273.1"
   ]
  },
  {
   "cell_type": "code",
   "execution_count": 3,
   "metadata": {},
   "outputs": [
    {
     "data": {
      "text/plain": [
       "SeqRecord(seq=Seq('AGCTTTTCATTCTGACTGCAACGGGCAATATGTCTCTGTGTGGATTAAAAAAAG...TTC'), id='CP009273.1', name='CP009273', description='Escherichia coli BW25113, complete genome', dbxrefs=['BioProject:PRJNA257976', 'BioSample:SAMN03013572'])"
      ]
     },
     "execution_count": 3,
     "metadata": {},
     "output_type": "execute_result"
    }
   ],
   "source": [
    "with open(\"data/BW25113_genome.pkl\", \"rb\") as input:\n",
    "    chr = pickle.load(input)\n",
    "chr"
   ]
  },
  {
   "cell_type": "markdown",
   "metadata": {},
   "source": [
    "Obtain a table matching each gene to its location in the genome:"
   ]
  },
  {
   "cell_type": "code",
   "execution_count": 4,
   "metadata": {},
   "outputs": [],
   "source": [
    "def create_gene_location_table(genome: SeqRecord) -> dict:\n",
    "    \"\"\"\n",
    "    Creates a dictionary of {\"gene\": location in genome}\n",
    "    \"\"\"\n",
    "    hashtable = {}\n",
    "    for feature in genome.features:\n",
    "        if feature.type==\"CDS\":\n",
    "            gene, = feature.qualifiers[\"gene\"]\n",
    "            hashtable[gene] = feature.location\n",
    "    return hashtable "
   ]
  },
  {
   "cell_type": "code",
   "execution_count": 5,
   "metadata": {},
   "outputs": [],
   "source": [
    "genetable = create_gene_location_table(chr)"
   ]
  },
  {
   "cell_type": "code",
   "execution_count": 6,
   "metadata": {},
   "outputs": [],
   "source": [
    "gene_locations = [GenomeLocation(name=gene_name,\n",
    "                                 location=[gene_feat],\n",
    "                                 genome=chr) for gene_name, gene_feat in genetable.items()]"
   ]
  },
  {
   "cell_type": "code",
   "execution_count": 7,
   "metadata": {},
   "outputs": [
    {
     "data": {
      "text/html": [
       "<div>\n",
       "<style scoped>\n",
       "    .dataframe tbody tr th:only-of-type {\n",
       "        vertical-align: middle;\n",
       "    }\n",
       "\n",
       "    .dataframe tbody tr th {\n",
       "        vertical-align: top;\n",
       "    }\n",
       "\n",
       "    .dataframe thead th {\n",
       "        text-align: right;\n",
       "    }\n",
       "</style>\n",
       "<table border=\"1\" class=\"dataframe\">\n",
       "  <thead>\n",
       "    <tr style=\"text-align: right;\">\n",
       "      <th></th>\n",
       "      <th>0</th>\n",
       "      <th>1</th>\n",
       "      <th>2</th>\n",
       "    </tr>\n",
       "  </thead>\n",
       "  <tbody>\n",
       "    <tr>\n",
       "      <th>thrL</th>\n",
       "      <td>189.0</td>\n",
       "      <td>255.0</td>\n",
       "      <td>1.0</td>\n",
       "    </tr>\n",
       "    <tr>\n",
       "      <th>thrA</th>\n",
       "      <td>336.0</td>\n",
       "      <td>2799.0</td>\n",
       "      <td>1.0</td>\n",
       "    </tr>\n",
       "    <tr>\n",
       "      <th>thrB</th>\n",
       "      <td>2800.0</td>\n",
       "      <td>3733.0</td>\n",
       "      <td>1.0</td>\n",
       "    </tr>\n",
       "    <tr>\n",
       "      <th>thrC</th>\n",
       "      <td>3733.0</td>\n",
       "      <td>5020.0</td>\n",
       "      <td>1.0</td>\n",
       "    </tr>\n",
       "    <tr>\n",
       "      <th>yaaX</th>\n",
       "      <td>5233.0</td>\n",
       "      <td>5530.0</td>\n",
       "      <td>1.0</td>\n",
       "    </tr>\n",
       "    <tr>\n",
       "      <th>...</th>\n",
       "      <td>...</td>\n",
       "      <td>...</td>\n",
       "      <td>...</td>\n",
       "    </tr>\n",
       "    <tr>\n",
       "      <th>creC</th>\n",
       "      <td>4626512.0</td>\n",
       "      <td>4627937.0</td>\n",
       "      <td>1.0</td>\n",
       "    </tr>\n",
       "    <tr>\n",
       "      <th>creD</th>\n",
       "      <td>4627994.0</td>\n",
       "      <td>4629347.0</td>\n",
       "      <td>1.0</td>\n",
       "    </tr>\n",
       "    <tr>\n",
       "      <th>arcA</th>\n",
       "      <td>4629406.0</td>\n",
       "      <td>4630123.0</td>\n",
       "      <td>-1.0</td>\n",
       "    </tr>\n",
       "    <tr>\n",
       "      <th>yjjY</th>\n",
       "      <td>4630218.0</td>\n",
       "      <td>4630359.0</td>\n",
       "      <td>1.0</td>\n",
       "    </tr>\n",
       "    <tr>\n",
       "      <th>yjtD</th>\n",
       "      <td>4630758.0</td>\n",
       "      <td>4631445.0</td>\n",
       "      <td>1.0</td>\n",
       "    </tr>\n",
       "  </tbody>\n",
       "</table>\n",
       "<p>4269 rows × 3 columns</p>\n",
       "</div>"
      ],
      "text/plain": [
       "              0          1    2\n",
       "thrL      189.0      255.0  1.0\n",
       "thrA      336.0     2799.0  1.0\n",
       "thrB     2800.0     3733.0  1.0\n",
       "thrC     3733.0     5020.0  1.0\n",
       "yaaX     5233.0     5530.0  1.0\n",
       "...         ...        ...  ...\n",
       "creC  4626512.0  4627937.0  1.0\n",
       "creD  4627994.0  4629347.0  1.0\n",
       "arcA  4629406.0  4630123.0 -1.0\n",
       "yjjY  4630218.0  4630359.0  1.0\n",
       "yjtD  4630758.0  4631445.0  1.0\n",
       "\n",
       "[4269 rows x 3 columns]"
      ]
     },
     "execution_count": 7,
     "metadata": {},
     "output_type": "execute_result"
    }
   ],
   "source": [
    "data = {g.name: (float(g.start), float(g.end), g.strand) for g in gene_locations}\n",
    "df = pd.DataFrame(data).T\n",
    "df"
   ]
  },
  {
   "cell_type": "code",
   "execution_count": 8,
   "metadata": {},
   "outputs": [],
   "source": [
    "df.to_csv(\"data/genes.csv\")"
   ]
  },
  {
   "cell_type": "code",
   "execution_count": null,
   "metadata": {},
   "outputs": [],
   "source": []
  }
 ],
 "metadata": {
  "kernelspec": {
   "display_name": "bio_env",
   "language": "python",
   "name": "python3"
  },
  "language_info": {
   "codemirror_mode": {
    "name": "ipython",
    "version": 3
   },
   "file_extension": ".py",
   "mimetype": "text/x-python",
   "name": "python",
   "nbconvert_exporter": "python",
   "pygments_lexer": "ipython3",
   "version": "3.11.9"
  }
 },
 "nbformat": 4,
 "nbformat_minor": 2
}
